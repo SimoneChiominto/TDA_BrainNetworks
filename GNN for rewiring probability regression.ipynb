{
  "cells": [
    {
      "cell_type": "markdown",
      "metadata": {
        "id": "YzQJS1jXdVE8"
      },
      "source": [
        "# Graph Neural network for prediction of Watts-Strogatz rewiring parameter\n",
        "In this notebook we are going to implement a graph neural network to predict the rewiring paramenter of watts-strogatz graph using 1 dimensional Betti numbers a two step neighborhood of the nodes. We are then going to see the predicted rewiring probability on a the coma daset.\n",
        "\n",
        "This notebook need is thought to be run on google colab"
      ]
    },
    {
      "cell_type": "markdown",
      "metadata": {
        "id": "vrIQJHufd86g"
      },
      "source": [
        "## Importing Watts-strogatz data\n",
        "In this section we upload data of Watts-Strogatz 1 dimensional Betti numbers on the two-step neighborhood of a node.\n",
        "First let us mount the clone the github repository with the data"
      ]
    },
    {
      "cell_type": "code",
      "execution_count": 96,
      "metadata": {
        "colab": {
          "base_uri": "https://localhost:8080/"
        },
        "id": "Xd4iQgaFlr5x",
        "outputId": "7dfbcf07-967e-4f8a-b4df-dc69962e34ee"
      },
      "outputs": [
        {
          "output_type": "stream",
          "name": "stdout",
          "text": [
            "fatal: destination path 'TDA_BrainNetworks' already exists and is not an empty directory.\n"
          ]
        }
      ],
      "source": [
        "!git clone https://github.com/SimoneChiominto/TDA_BrainNetworks.git"
      ]
    },
    {
      "cell_type": "code",
      "execution_count": 97,
      "metadata": {
        "id": "WLnjavgdlDRG"
      },
      "outputs": [],
      "source": [
        "path='/content/TDA_BrainNetworks'\n",
        "import sys\n",
        "sys.path.append(path)"
      ]
    },
    {
      "cell_type": "markdown",
      "metadata": {
        "id": "QF2Jqu9QeMdp"
      },
      "source": [
        "Let then upload the data via pickle"
      ]
    },
    {
      "cell_type": "code",
      "execution_count": 98,
      "metadata": {
        "colab": {
          "base_uri": "https://localhost:8080/"
        },
        "id": "kGhSGfjKl0aq",
        "outputId": "733239da-f156-4562-d0d8-fbc4efd2649d"
      },
      "outputs": [
        {
          "output_type": "stream",
          "name": "stdout",
          "text": [
            "Looking in indexes: https://pypi.org/simple, https://us-python.pkg.dev/colab-wheels/public/simple/\n",
            "Requirement already satisfied: pickle5 in /usr/local/lib/python3.7/dist-packages (0.0.12)\n"
          ]
        }
      ],
      "source": [
        "!pip3 install pickle5"
      ]
    },
    {
      "cell_type": "code",
      "execution_count": 99,
      "metadata": {
        "id": "xQS869toeRNL"
      },
      "outputs": [],
      "source": [
        "import pickle5 as pickle\n",
        "import numpy as np\n",
        "\n",
        "with open(path+\"/data/ws_nbhd_betti\",\"rb\") as f:\n",
        "    (betti_numbers_ws,corr_mats_ws,probs,thresholds)=pickle.load(f)\n",
        "\n",
        "betti_numbers_ws=np.array(betti_numbers_ws)"
      ]
    },
    {
      "cell_type": "markdown",
      "metadata": {
        "id": "vxeNzUamewln"
      },
      "source": [
        "## Installing pytorch-geometric\n",
        "We then install pytorch-geometric which is the package we use to create our graph neural network"
      ]
    },
    {
      "cell_type": "code",
      "execution_count": 100,
      "metadata": {
        "colab": {
          "base_uri": "https://localhost:8080/"
        },
        "id": "72MRP8kSe4KU",
        "outputId": "6674de65-c328-4b12-c511-f69c3c2214a7"
      },
      "outputs": [
        {
          "output_type": "stream",
          "name": "stdout",
          "text": [
            "1.12.1+cu113\n"
          ]
        }
      ],
      "source": [
        "import os\n",
        "import torch\n",
        "os.environ['TORCH'] = torch.__version__\n",
        "print(torch.__version__)\n",
        "\n",
        "!pip install -q torch-scatter -f https://data.pyg.org/whl/torch-${TORCH}.html\n",
        "!pip install -q torch-sparse -f https://data.pyg.org/whl/torch-${TORCH}.html\n",
        "!pip install -q git+https://github.com/pyg-team/pytorch_geometric.git\n",
        "\n",
        "device = \"cpu\""
      ]
    },
    {
      "cell_type": "markdown",
      "metadata": {
        "id": "ZXtobYCBfo54"
      },
      "source": [
        "## GNN"
      ]
    },
    {
      "cell_type": "code",
      "execution_count": 101,
      "metadata": {
        "colab": {
          "base_uri": "https://localhost:8080/"
        },
        "id": "HGWfp0APmkY_",
        "outputId": "1847bb56-623c-4de3-e7aa-9cb289a43cf4"
      },
      "outputs": [
        {
          "output_type": "stream",
          "name": "stdout",
          "text": [
            "Looking in indexes: https://pypi.org/simple, https://us-python.pkg.dev/colab-wheels/public/simple/\n",
            "Requirement already satisfied: igraph in /usr/local/lib/python3.7/dist-packages (0.9.11)\n",
            "Requirement already satisfied: texttable>=1.6.2 in /usr/local/lib/python3.7/dist-packages (from igraph) (1.6.4)\n"
          ]
        }
      ],
      "source": [
        "! pip install igraph"
      ]
    },
    {
      "cell_type": "code",
      "execution_count": 102,
      "metadata": {
        "id": "DmqMjgKCfsLh"
      },
      "outputs": [],
      "source": [
        "from HomologyPackage import adjacency_matrix\n",
        "\n",
        "sparsity=0.6\n",
        "adj_mats_ws = [adjacency_matrix(mat,sparsity,method='sparsity_notconnected') for mat in corr_mats_ws]"
      ]
    },
    {
      "cell_type": "code",
      "execution_count": 103,
      "metadata": {
        "id": "X0i03Zb4UjV1"
      },
      "outputs": [],
      "source": [
        "k= len(adj_mats_ws)\n",
        "rng=np.random.default_rng(12)\n",
        "dataset=[]\n",
        "features= []\n",
        "feature_dimension = len(betti_numbers_ws[0][:,0])\n",
        "feat=betti_numbers_ws"
      ]
    },
    {
      "cell_type": "code",
      "execution_count": 104,
      "metadata": {
        "id": "X8PqYES4VGeI"
      },
      "outputs": [],
      "source": [
        "import networkx as nx\n",
        "from torch_geometric.utils import from_networkx\n",
        "\n",
        "dataset = [from_networkx(nx.from_numpy_array(i)) for i in adj_mats_ws]\n",
        "features=(feat)\n",
        "\n",
        "#matricione le cui righe sono i feature vector\n",
        "features= [ar.transpose() for ar in features]"
      ]
    },
    {
      "cell_type": "code",
      "execution_count": 105,
      "metadata": {
        "id": "GmLVJfAmg7iK"
      },
      "outputs": [],
      "source": [
        "from torch_geometric.loader import DataLoader"
      ]
    },
    {
      "cell_type": "code",
      "execution_count": 106,
      "metadata": {
        "colab": {
          "base_uri": "https://localhost:8080/"
        },
        "id": "-rHe9vOooihm",
        "outputId": "faba1a3d-5a6a-4cb3-c7b2-26cd1cf14543"
      },
      "outputs": [
        {
          "output_type": "execute_result",
          "data": {
            "text/plain": [
              "[0.0,\n",
              " 0.025252525252525256,\n",
              " 0.05050505050505051,\n",
              " 0.07575757575757576,\n",
              " 0.10101010101010102,\n",
              " 0.12626262626262627,\n",
              " 0.15151515151515152,\n",
              " 0.1767676767676768,\n",
              " 0.20202020202020204,\n",
              " 0.2272727272727273,\n",
              " 0.25252525252525254,\n",
              " 0.2777777777777778,\n",
              " 0.30303030303030304,\n",
              " 0.3282828282828283,\n",
              " 0.3535353535353536,\n",
              " 0.37878787878787884,\n",
              " 0.4040404040404041,\n",
              " 0.42929292929292934,\n",
              " 0.4545454545454546,\n",
              " 0.47979797979797983]"
            ]
          },
          "metadata": {},
          "execution_count": 106
        }
      ],
      "source": [
        "complete_dataset=[]\n",
        "train_dataset= []\n",
        "test_dataset= []\n",
        "lin_test = []\n",
        "lin_train=[]  \n",
        "\n",
        "    \n",
        "#synthetic dataloading\n",
        "for i in range(len(dataset)):\n",
        "  complete_dataset.append(dataset[i])\n",
        "  # len(complete_dataset)-1 si potrebbe mettere i a occhio, ci provo\n",
        "  complete_dataset[i].x=torch.tensor([j for j in features[i]]).float() # [ [1],[2],...]\n",
        "  complete_dataset[i].x.to(device)\n",
        "  complete_dataset[i].y=torch.tensor([probs[i]]).float()\n",
        "  complete_dataset[i].y.to(device)\n",
        "  if (i % 5== 0):\n",
        "    test_dataset.append(dataset[i])\n",
        "    test_dataset[len(test_dataset)-1].x=torch.tensor([j for j in features[i]]).float() # [ [1],[2],...]\n",
        "    test_dataset[len(test_dataset)-1].x.to(device)\n",
        "    test_dataset[len(test_dataset)-1].y=torch.tensor([probs[i]]).float()\n",
        "    test_dataset[len(test_dataset)-1].y.to(device)\n",
        "    # lin dovrebbero essere delle prbabilità se ricordo bene\n",
        "    lin_test.append(probs[i])# è stato modificato\n",
        "  else:\n",
        "    train_dataset.append(dataset[i])\n",
        "    train_dataset[len(train_dataset)-1].x=torch.tensor([j for j in features[i]]).float()\n",
        "    train_dataset[len(train_dataset)-1].x.to(device)\n",
        "    train_dataset[len(train_dataset)-1].y=torch.tensor([probs[i]]).float()\n",
        "    train_dataset[len(train_dataset)-1].y.to(device)\n",
        "    lin_train.append(probs[i])\n",
        "            \n",
        "\n",
        "train_loader  = DataLoader(train_dataset,batch_size=1,shuffle=True)\n",
        "test_loader  = DataLoader(test_dataset,batch_size=1,shuffle= True)\n",
        "complete_loader = DataLoader(complete_dataset,batch_size=1,shuffle= False)\n",
        "train_loader_plot  = DataLoader(train_dataset,batch_size=1,shuffle=False)\n",
        "test_loader_plot  = DataLoader(test_dataset,batch_size=1,shuffle= False)\n",
        "\n",
        "lin_test"
      ]
    },
    {
      "cell_type": "code",
      "execution_count": 107,
      "metadata": {
        "id": "-vVKjHhzpDbM"
      },
      "outputs": [],
      "source": [
        "from torch_geometric.nn import GCNConv\n",
        "from torch_geometric.nn import FeaStConv\n",
        "from torch.nn import Linear\n",
        "\n",
        "class GCN(torch.nn.Module):\n",
        "  def __init__(self, embedding_dim):\n",
        "    super(GCN, self).__init__()\n",
        "    torch.manual_seed(12345)\n",
        "    self.conv1 = GCNConv(feature_dimension, embedding_dim)\n",
        "    self.conv2 = FeaStConv(embedding_dim, embedding_dim)\n",
        "    '''\n",
        "    self.conv3 = FeaStConv(embedding_dim, embedding_dim)\n",
        "    self.conv4 = FeaStConv(embedding_dim, embedding_dim)\n",
        "    '''\n",
        "    '''\n",
        "    self.conv5 = FeaStConv(embedding_dim, embedding_dim)\n",
        "    self.conv6 = FeaStConv(embedding_dim, embedding_dim)\n",
        "    self.conv7 = FeaStConv(embedding_dim, embedding_dim)\n",
        "    '''\n",
        "    \n",
        "    self.linear = Linear(embedding_dim, 1)\n",
        "    self.softmax = torch.nn.Softmax(1)\n",
        "            \n",
        "  def forward(self, x, edge_index, batch):\n",
        "    #  produce the node embeddings via Graph Convolution\n",
        "    x = self.conv1(x, edge_index)\n",
        "    x = x.relu()\n",
        "    #  aggregate the node embeddings to obtain a global one\n",
        "    x = global_mean_pool(x, batch)  \n",
        "    #  regularize and apply a final dense classifier\n",
        "    # x = F.dropout(x, p=0 , training=self.training)#0,#0.9!\n",
        "    x = self.linear(x)\n",
        "    #x = self.softmax(x)\n",
        "           \n",
        "    return x"
      ]
    },
    {
      "cell_type": "code",
      "execution_count": 108,
      "metadata": {
        "id": "hegFBJYDqGdR"
      },
      "outputs": [],
      "source": [
        "model = GCN(embedding_dim=200)#240, 120 è giusto    \n",
        "model.to(device)\n",
        "optimizer = torch.optim.Adam(model.parameters(), lr=0.05)#0.05\n",
        "criterion = torch.nn.MSELoss()"
      ]
    },
    {
      "cell_type": "code",
      "execution_count": 109,
      "metadata": {
        "id": "at2NWarTuOh5"
      },
      "outputs": [],
      "source": [
        "ydataloss_train = []\n",
        "ydataloss_test = []\n",
        "out_test=[]\n",
        "\n",
        "def train():\n",
        "  model.train()\n",
        "    \n",
        "  for data1 in train_loader: \n",
        "             \n",
        "    out = model(data1.x.to(device), data1.edge_index.to(device), data1.batch.to(device))  # Perform a single forward pass.\n",
        "    loss = criterion(out.to(device), data1.y.to(device))  # Compute the loss.\n",
        "    loss.backward()  # Derive gradients.\n",
        "    optimizer.step()  # Update parameters based on gradients.\n",
        "    optimizer.zero_grad()  # Clear gradients.\n",
        "  ydataloss_train.append(loss.item())\n",
        "\n",
        "def test(loader):\n",
        "  model.eval()\n",
        "         \n",
        "  correct = 0\n",
        "         \n",
        "  for data1 in loader:  \n",
        "  #iterate in batches over both datasets\n",
        "    out = model(data1.x.to(device), data1.edge_index.to(device), data1.batch.to(device)) \n",
        "             \n",
        "    loss = criterion(out.to(device)[0], data1.y.to(device))\n",
        "\n",
        "    correct += np.sqrt(abs(loss.item())  )\n",
        "  # we can calculate the accuracy\n",
        "  ydataloss_test.append((loss.item()))\n",
        "  out_test.append(out.item())\n",
        "  return correct/len(loader)"
      ]
    },
    {
      "cell_type": "code",
      "execution_count": 110,
      "metadata": {
        "colab": {
          "base_uri": "https://localhost:8080/"
        },
        "id": "13dqlf9JvEvO",
        "outputId": "f5f846fe-b6fa-4811-a1fb-f0b8a32ce194"
      },
      "outputs": [
        {
          "output_type": "stream",
          "name": "stderr",
          "text": [
            "/usr/local/lib/python3.7/dist-packages/torch/nn/modules/loss.py:530: UserWarning: Using a target size (torch.Size([1])) that is different to the input size (torch.Size([1, 1])). This will likely lead to incorrect results due to broadcasting. Please ensure they have the same size.\n",
            "  return F.mse_loss(input, target, reduction=self.reduction)\n"
          ]
        },
        {
          "output_type": "stream",
          "name": "stdout",
          "text": [
            "Epoch: 001, Train err: 0.1257, Test err: 0.1327\n",
            "Epoch: 002, Train err: 0.0488, Test err: 0.0498\n",
            "Epoch: 003, Train err: 0.0431, Test err: 0.0409\n",
            "Epoch: 004, Train err: 0.0328, Test err: 0.0352\n",
            "Epoch: 005, Train err: 0.0310, Test err: 0.0332\n",
            "Epoch: 006, Train err: 0.0314, Test err: 0.0411\n"
          ]
        }
      ],
      "source": [
        "from torch_geometric.nn import global_mean_pool\n",
        "import matplotlib.pyplot as plt\n",
        "\n",
        "xdata = []\n",
        "ydatatest = []\n",
        "ydatatrain = []\n",
        "ydata = []\n",
        "\n",
        "for epoch in range(1,70):#200\n",
        "  train()\n",
        "  train_acc = test(train_loader)\n",
        "  test_acc = test(test_loader)\n",
        "\n",
        "  if(test_acc<=0.03):\n",
        "    break\n",
        "  print(f'Epoch: {epoch:03d}, Train err: {train_acc:.4f}, Test err: {test_acc:.4f}')\n",
        "  xdata.append(epoch)\n",
        "  ydatatest.append(test_acc)\n",
        "  ydatatrain.append(train_acc)\n"
      ]
    },
    {
      "cell_type": "code",
      "execution_count": 111,
      "metadata": {
        "id": "SxZyEKgqx8XY"
      },
      "outputs": [],
      "source": [
        "model.eval()\n",
        "out_print= np.zeros(len(complete_loader))\n",
        "y_print=np.zeros(len(complete_loader))\n",
        "out_print_train =np.zeros(len(train_loader_plot))\n",
        "out_print_test = np.zeros(len(test_loader_plot))\n",
        "\n",
        "for i,graph in enumerate(complete_loader):\n",
        "  out_print[i]=model(graph.x.to(device),graph.edge_index.to(device),graph.batch.to(device))\n",
        "  y_print[i]=graph.y.to(device).item()\n",
        "  #print(out_print[i])\n",
        "            \n",
        "for i,graph in enumerate(train_loader_plot):\n",
        "  #print(graph)\n",
        "  out_print_train[i]=model(graph.x.to(device),graph.edge_index.to(device),graph.batch.to(device))\n",
        "        \n",
        "for i,graph in enumerate(test_loader_plot):\n",
        "  out_print_test[i]=model(graph.x.to(device),graph.edge_index.to(device),graph.batch.to(device))\n",
        "    "
      ]
    },
    {
      "cell_type": "code",
      "execution_count": 112,
      "metadata": {
        "colab": {
          "base_uri": "https://localhost:8080/",
          "height": 298
        },
        "id": "lcf6VV5CyARQ",
        "outputId": "a86113ea-cfe6-4c44-95e2-fa288fcddbd2"
      },
      "outputs": [
        {
          "output_type": "execute_result",
          "data": {
            "text/plain": [
              "<matplotlib.legend.Legend at 0x7f30c78df410>"
            ]
          },
          "metadata": {},
          "execution_count": 112
        },
        {
          "output_type": "display_data",
          "data": {
            "text/plain": [
              "<Figure size 432x288 with 1 Axes>"
            ],
            "image/png": "[encoded data removed]"
          },
          "metadata": {
            "needs_background": "light"
          }
        }
      ],
      "source": [
        "    plt.clf()\n",
        "\n",
        "    plt.title(\"Estimated probabilities\")\n",
        "    \n",
        "    #plt.scatter(probs,out_print)\n",
        "    #plt.plot(probs,probs,color='red',linestyle='--')\n",
        "    #plt.legend(['actual probabilites','predicted probabilities'])\n",
        "    \n",
        "    plt.scatter(lin_train,out_print_train)\n",
        "    plt.plot(probs,probs,color='black',linestyle='--')\n",
        "    plt.legend(['actual probabilites','predicted probabilities train'])\n",
        "    \n",
        "    plt.scatter(lin_test,out_print_test,color='red')\n",
        "    #plt.plot(lin,y_print[1::2],color='black',linestyle='--')\n",
        "    plt.legend(['actual probabilites','predicted probabilities test'])\n",
        "       \n"
      ]
    },
    {
      "cell_type": "markdown",
      "metadata": {
        "id": "UGHZWegh-nE1"
      },
      "source": [
        "## Test on Coma dataset"
      ]
    },
    {
      "cell_type": "code",
      "execution_count": 113,
      "metadata": {
        "id": "CZV2nOL1-rvX"
      },
      "outputs": [],
      "source": [
        "with open(path+\"/data/patients_nbhd_betti\",\"rb\") as f:\n",
        "    (betti_numbers_patients,patient_files,thresholds)=pickle.load(f)\n",
        "\n",
        "with open(path+\"/data/controls_nbhd_betti\",\"rb\") as f:\n",
        "    (betti_numbers_controls,control_files,thresholds)=pickle.load(f)\n",
        "\n",
        "betti_numbers_patients=np.array(betti_numbers_patients)\n",
        "betti_numbers_controls=np.array(betti_numbers_controls)\n",
        "feat_test = np.concatenate([betti_numbers_patients,betti_numbers_controls],axis=0)\n",
        "k=len(feat_test)\n",
        "feat_test=[ar.transpose() for ar in feat_test]\n",
        "\n",
        "coma_path='/content/TDA_BrainNetworks/regional-differentiation-based-on-graph-nodal-statistics-for-functional-brain-connectivity-networks-characterization-main/DATA/cor_mat_coma'\n",
        "coma_files=[coma_path+'/'+file_name for file_name in patient_files+control_files ]\n",
        "corr_mats_coma=[np.loadtxt(file_name, usecols=range(1,91), skiprows=1, dtype='float') for file_name in coma_files]\n",
        "\n",
        "adj_mats_coma = [adjacency_matrix(mat,sparsity,method='sparsity_notconnected') for mat in corr_mats_coma]\n"
      ]
    },
    {
      "cell_type": "code",
      "execution_count": 114,
      "metadata": {
        "id": "gPYUsHZ0_ADD"
      },
      "outputs": [],
      "source": [
        "coma_dataset=[]\n",
        "dataset_coma = [from_networkx(nx.from_numpy_array(i)) for i in adj_mats_coma]\n",
        "    \n",
        "#synthetic dataloading\n",
        "for i in range(len(dataset_coma)):\n",
        "  coma_dataset.append(dataset_coma[i])\n",
        "  coma_dataset[i].x=torch.tensor([j for j in feat_test[i]]).float() # [ [1],[2],...]\n",
        "  coma_dataset[i].x.to(device)\n",
        "  coma_dataset[i].y=torch.tensor([probs[i]]).float()\n",
        "  coma_dataset[i].y.to(device)\n",
        "\n",
        "coma_dataset=DataLoader(coma_dataset,batch_size=1) "
      ]
    },
    {
      "cell_type": "code",
      "execution_count": 116,
      "metadata": {
        "colab": {
          "base_uri": "https://localhost:8080/",
          "height": 298
        },
        "id": "6hNG5INr_Ka-",
        "outputId": "67168feb-b140-4e88-c345-0c85538a5b46"
      },
      "outputs": [
        {
          "output_type": "execute_result",
          "data": {
            "text/plain": [
              "[<matplotlib.lines.Line2D at 0x7f30c7277d90>]"
            ]
          },
          "metadata": {},
          "execution_count": 116
        },
        {
          "output_type": "display_data",
          "data": {
            "text/plain": [
              "<Figure size 432x288 with 1 Axes>"
            ],
            "image/png": "[encoded data removed]"
          },
          "metadata": {
            "needs_background": "light"
          }
        }
      ],
      "source": [
        "from scipy.stats import norm\n",
        "\n",
        "\n",
        "result = []\n",
        "for i,network in enumerate(coma_dataset):\n",
        "  result.append(model(network.x.to(device),network.edge_index.to(device),network.batch.to(device)).cpu().detach().numpy().item())\n",
        "\n",
        "plt.clf()\n",
        "plt.title(\"Distribution of estimated probabilities for brain networks.\")\n",
        "    \n",
        "plt.hist(result)\n",
        "(mu, sigma) = norm.fit(result)\n",
        "x_axis = np.arange(-0.1, 0.3, 0.001)\n",
        "plt.plot(x_axis, norm.pdf(x_axis, mu, sigma))\n"
      ]
    }
  ],
  "metadata": {
    "colab": {
      "collapsed_sections": [
        "vrIQJHufd86g",
        "vxeNzUamewln"
      ],
      "name": "Gnn",
      "provenance": []
    },
    "kernelspec": {
      "display_name": "Python 3",
      "name": "python3"
    },
    "language_info": {
      "name": "python"
    }
  },
  "nbformat": 4,
  "nbformat_minor": 0
}